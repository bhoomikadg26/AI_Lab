{
  "nbformat": 4,
  "nbformat_minor": 0,
  "metadata": {
    "colab": {
      "provenance": []
    },
    "kernelspec": {
      "name": "python3",
      "display_name": "Python 3"
    },
    "language_info": {
      "name": "python"
    }
  },
  "cells": [
    {
      "cell_type": "code",
      "execution_count": null,
      "metadata": {
        "colab": {
          "base_uri": "https://localhost:8080/"
        },
        "id": "z3V6NbOQ_g3Q",
        "outputId": "a5255858-c35a-47ab-97f7-b98fac51b29e"
      },
      "outputs": [
        {
          "output_type": "stream",
          "name": "stdout",
          "text": [
            "   age  sex  cp  trestbps  chol  fbs  restecg  thalach  exang  oldpeak  slope  \\\n",
            "0   63    1   3       145   233    1        0      150      0      2.3      0   \n",
            "1   37    1   2       130   250    0        1      187      0      3.5      0   \n",
            "2   41    0   1       130   204    0        0      172      0      1.4      2   \n",
            "3   56    1   1       120   236    0        1      178      0      0.8      2   \n",
            "4   57    0   0       120   354    0        1      163      1      0.6      2   \n",
            "\n",
            "   ca  thal  target  \n",
            "0   0     1       1  \n",
            "1   0     2       1  \n",
            "2   0     2       1  \n",
            "3   0     2       1  \n",
            "4   0     2       1  \n",
            "age         0\n",
            "sex         0\n",
            "cp          0\n",
            "trestbps    0\n",
            "chol        0\n",
            "fbs         0\n",
            "restecg     0\n",
            "thalach     0\n",
            "exang       0\n",
            "oldpeak     0\n",
            "slope       0\n",
            "ca          0\n",
            "thal        0\n",
            "target      0\n",
            "dtype: int64\n",
            "age           int64\n",
            "sex           int64\n",
            "cp            int64\n",
            "trestbps      int64\n",
            "chol          int64\n",
            "fbs           int64\n",
            "restecg       int64\n",
            "thalach       int64\n",
            "exang         int64\n",
            "oldpeak     float64\n",
            "slope         int64\n",
            "ca            int64\n",
            "thal          int64\n",
            "target        int64\n",
            "dtype: object\n",
            "Accuracy: 83.52%\n",
            "\n",
            "Classification Report:\n",
            "              precision    recall  f1-score   support\n",
            "\n",
            "           0       0.78      0.88      0.83        41\n",
            "           1       0.89      0.80      0.84        50\n",
            "\n",
            "    accuracy                           0.84        91\n",
            "   macro avg       0.84      0.84      0.83        91\n",
            "weighted avg       0.84      0.84      0.84        91\n",
            "\n",
            "\n",
            "Confusion Matrix:\n",
            "[[36  5]\n",
            " [10 40]]\n"
          ]
        }
      ],
      "source": [
        "import pandas as pd\n",
        "from sklearn.model_selection import train_test_split\n",
        "from sklearn.naive_bayes import GaussianNB\n",
        "from sklearn.metrics import accuracy_score, classification_report, confusion_matrix\n",
        "\n",
        "\n",
        "heart_data = pd.read_csv('heart.csv')\n",
        "print(heart_data.head())\n",
        "print(heart_data.isnull().sum())\n",
        "print(heart_data.dtypes)\n",
        "X = heart_data.drop('target', axis=1)\n",
        "y = heart_data['target']\n",
        "X_train, X_test, y_train, y_test = train_test_split(X, y, test_size=0.3, random_state=42)\n",
        "\n",
        "naive_bayes = GaussianNB()\n",
        "naive_bayes.fit(X_train, y_train)\n",
        "y_pred = naive_bayes.predict(X_test)\n",
        "accuracy = accuracy_score(y_test, y_pred)\n",
        "print(f'Accuracy: {accuracy * 100:.2f}%')\n",
        "print(\"\\nClassification Report:\")\n",
        "print(classification_report(y_test, y_pred))\n",
        "print(\"\\nConfusion Matrix:\")\n",
        "print(confusion_matrix(y_test, y_pred))"
      ]
    },
    {
      "cell_type": "code",
      "source": [],
      "metadata": {
        "id": "CreOBkIpAh5i"
      },
      "execution_count": null,
      "outputs": []
    }
  ]
}